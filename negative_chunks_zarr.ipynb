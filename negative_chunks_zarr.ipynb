{
 "cells": [
  {
   "cell_type": "markdown",
   "metadata": {},
   "source": [
    "# minimal\n",
    "\n",
    "When using negative chunking with zarr, values are not correct"
   ]
  },
  {
   "cell_type": "code",
   "execution_count": 1,
   "metadata": {},
   "outputs": [
    {
     "name": "stdout",
     "output_type": "stream",
     "text": [
      "np   :  1.18.1\n",
      "zarr :  2.3.2\n"
     ]
    }
   ],
   "source": [
    "import zarr\n",
    "import numpy as np\n",
    "print(\"np   : \", np.__version__)\n",
    "print(\"zarr : \", zarr.__version__)"
   ]
  },
  {
   "cell_type": "code",
   "execution_count": 2,
   "metadata": {},
   "outputs": [
    {
     "name": "stdout",
     "output_type": "stream",
     "text": [
      "var1 :  [2. 2. 2. 2. 2. 2. 2. 2. 2. 2.]\n",
      "var2 :  [2. 2. 2. 2. 2. 2. 2. 2. 2. 2.]\n"
     ]
    }
   ],
   "source": [
    "fichier1 = \"/tmp/test.zarr\"\n",
    "\n",
    "example = np.zeros((10))\n",
    "zh = zarr.open(fichier1, \"w\")\n",
    "\n",
    "var1 = zh.create_dataset(\"var1\", \n",
    "    shape=example.shape, \n",
    "    dtype=example.dtype,      \n",
    "    chunks=(10)\n",
    ")\n",
    "var1[:] = 2.\n",
    "print(\"var1 : \", var1[:])  # output as expected\n",
    "\n",
    "var2 = zh.create_dataset(\"var2\", \n",
    "    shape=example.shape, \n",
    "    dtype=example.dtype,      \n",
    "    chunks=(-1)\n",
    ")\n",
    "var2[:] = 7.\n",
    "print(\"var2 : \", var2[:])  # should be 7 but is 2 as var1\n"
   ]
  },
  {
   "cell_type": "markdown",
   "metadata": {},
   "source": [
    "## more funny\n",
    "\n",
    "when running the same code twice, the corrupted memory don't have the same values"
   ]
  },
  {
   "cell_type": "code",
   "execution_count": 3,
   "metadata": {},
   "outputs": [],
   "source": [
    "def create():\n",
    "    \"\"\"this function demonstrate memory problem\"\"\"\n",
    "    \n",
    "    fichier1 = \"/tmp/test.zarr\"\n",
    "    \n",
    "    # first example is correct\n",
    "    example1 = np.zeros((10)) + 3\n",
    "    zh = zarr.open(fichier1, \"w\")\n",
    "    var1 = zh.create_dataset(\"var1\", \n",
    "            shape=example1.shape, \n",
    "            dtype=example1.dtype,      \n",
    "            chunks=(10))\n",
    "    var1[:] = example1 + 5\n",
    "    print(\"var1 : \", var1[:])\n",
    "\n",
    "    # second example show corrupted values\n",
    "    example2 = np.zeros((10))\n",
    "    var2 = zh.create_dataset(\"var2\", \n",
    "        shape=example2.shape, \n",
    "        dtype=example2.dtype,      \n",
    "        chunks=(-1))\n",
    "    var2[:] = 5\n",
    "    print(\"var2 : \", var2[:])  #should output 5, but output 8 ?\n",
    "\n",
    "    # exact same example as before, but show other corrupted value\n",
    "    example2 = np.zeros((10))\n",
    "    var2 = zh.create_dataset(\"var3\", \n",
    "        shape=example2.shape, \n",
    "        dtype=example2.dtype,      \n",
    "        chunks=(-1))\n",
    "    var2[:] = 5\n",
    "    print(\"var2 : \", var2[:])  # should output 5, but output 0 ?\n"
   ]
  },
  {
   "cell_type": "code",
   "execution_count": 4,
   "metadata": {},
   "outputs": [
    {
     "name": "stdout",
     "output_type": "stream",
     "text": [
      "var1 :  [8. 8. 8. 8. 8. 8. 8. 8. 8. 8.]\n",
      "var2 :  [8. 8. 8. 8. 8. 8. 8. 8. 8. 8.]\n",
      "var2 :  [0. 0. 0. 0. 0. 0. 0. 0. 0. 0.]\n"
     ]
    }
   ],
   "source": [
    "create()"
   ]
  },
  {
   "cell_type": "code",
   "execution_count": null,
   "metadata": {},
   "outputs": [],
   "source": []
  }
 ],
 "metadata": {
  "kernelspec": {
   "display_name": "Python 3.7.6 64-bit ('ultimate': conda)",
   "language": "python",
   "name": "python37664bitultimateconda86b3b53b60b549e3bd285012765b0563"
  },
  "language_info": {
   "codemirror_mode": {
    "name": "ipython",
    "version": 3
   },
   "file_extension": ".py",
   "mimetype": "text/x-python",
   "name": "python",
   "nbconvert_exporter": "python",
   "pygments_lexer": "ipython3",
   "version": "3.7.6"
  }
 },
 "nbformat": 4,
 "nbformat_minor": 4
}
