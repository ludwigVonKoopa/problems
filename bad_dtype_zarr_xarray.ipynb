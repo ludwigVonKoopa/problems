{
 "cells": [
  {
   "cell_type": "markdown",
   "metadata": {},
   "source": [
    "# pb zarr uint32\n",
    "\n",
    "when saving a uint32 variable in zarr, and loading in xarray, it transform into float64"
   ]
  },
  {
   "cell_type": "code",
   "execution_count": 1,
   "metadata": {},
   "outputs": [
    {
     "name": "stdout",
     "output_type": "stream",
     "text": [
      "np   : 1.18.1\n",
      "xr   : 0.15.1\n",
      "zarr : 2.3.2\n"
     ]
    }
   ],
   "source": [
    "import zarr\n",
    "import numpy as np\n",
    "import xarray as xr\n",
    "print(\"np   :\", np.__version__)\n",
    "print(\"xr   :\", xr.__version__)\n",
    "print(\"zarr :\", zarr.__version__)"
   ]
  },
  {
   "cell_type": "code",
   "execution_count": 2,
   "metadata": {},
   "outputs": [
    {
     "data": {
      "text/plain": [
       "dtype('uint32')"
      ]
     },
     "execution_count": 2,
     "metadata": {},
     "output_type": "execute_result"
    }
   ],
   "source": [
    "fichier1 = \"/tmp/test.zarr\"\n",
    "\n",
    "zh = zarr.open(fichier1, \"w\")\n",
    "\n",
    "example = np.zeros(10, dtype=np.uint32)\n",
    "myvar = zh.create_dataset(\"myvar\", \n",
    "    shape=example.shape, \n",
    "    dtype=example.dtype\n",
    ")\n",
    "\n",
    "myvar.attrs[\"_ARRAY_DIMENSIONS\"] = [\"obs\"]  # <- without this, the zarr dataset will not be readable by xarray\n",
    "myvar[:] = example\n",
    "# dtype is uint32\n",
    "zh.myvar.dtype"
   ]
  },
  {
   "cell_type": "code",
   "execution_count": 3,
   "metadata": {},
   "outputs": [
    {
     "data": {
      "text/plain": [
       "dtype('uint32')"
      ]
     },
     "execution_count": 3,
     "metadata": {},
     "output_type": "execute_result"
    }
   ],
   "source": [
    "# dtype is stil uint32\n",
    "zh = zarr.open(fichier1, 'r')\n",
    "zh.myvar.dtype"
   ]
  },
  {
   "cell_type": "code",
   "execution_count": 4,
   "metadata": {},
   "outputs": [
    {
     "data": {
      "text/plain": [
       "dtype('float64')"
      ]
     },
     "execution_count": 4,
     "metadata": {},
     "output_type": "execute_result"
    }
   ],
   "source": [
    "# dtype is float64\n",
    "ds = xr.open_zarr(fichier1)\n",
    "ds.myvar.dtype"
   ]
  }
 ],
 "metadata": {
  "kernelspec": {
   "display_name": "Python 3.7.6 64-bit ('ultimate': conda)",
   "language": "python",
   "name": "python37664bitultimateconda86b3b53b60b549e3bd285012765b0563"
  },
  "language_info": {
   "codemirror_mode": {
    "name": "ipython",
    "version": 3
   },
   "file_extension": ".py",
   "mimetype": "text/x-python",
   "name": "python",
   "nbconvert_exporter": "python",
   "pygments_lexer": "ipython3",
   "version": "3.7.6"
  }
 },
 "nbformat": 4,
 "nbformat_minor": 4
}
